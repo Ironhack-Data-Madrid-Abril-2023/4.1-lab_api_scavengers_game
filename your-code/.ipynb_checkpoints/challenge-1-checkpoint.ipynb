{
 "cells": [
  {
   "cell_type": "code",
   "execution_count": 1,
   "metadata": {},
   "outputs": [],
   "source": [
    "import json\n",
    "import requests"
   ]
  },
  {
   "cell_type": "markdown",
   "metadata": {},
   "source": [
    "Only if you're using your environmental variable eith the `.env` file, import/install the following modules. Otherwise it is not necessary:\n",
    "\n",
    "https://pypi.org/project/python-dotenv/"
   ]
  },
  {
   "cell_type": "code",
   "execution_count": null,
   "metadata": {},
   "outputs": [],
   "source": [
    "import os\n",
    "from dotenv import load_dotenv"
   ]
  },
  {
   "cell_type": "code",
   "execution_count": null,
   "metadata": {},
   "outputs": [],
   "source": [
    "#pip install python-dotenv"
   ]
  },
  {
   "cell_type": "code",
   "execution_count": 7,
   "metadata": {},
   "outputs": [
    {
     "data": {
      "text/plain": [
       "True"
      ]
     },
     "execution_count": 7,
     "metadata": {},
     "output_type": "execute_result"
    }
   ],
   "source": [
    "load_dotenv()"
   ]
  },
  {
   "cell_type": "code",
   "execution_count": 5,
   "metadata": {},
   "outputs": [],
   "source": [
    "github = os.getenv(\"token\")"
   ]
  },
  {
   "cell_type": "markdown",
   "metadata": {},
   "source": [
    "# Challenge 1: Fork Languages\n",
    "\n",
    "You will find out how many programming languages are used among all the forks created from the main lab repo of your bootcamp. Assuming the main lab repo is ironhack-datalabs/datamad1020-rev, you will:\n",
    "\n",
    "1. Obtain the full list of forks created from the main lab repo via Github API.\n",
    "\n",
    "2. Loop the JSON response to find out the language attribute of each fork. Use an array to store the language attributes of each fork.\n",
    "\n",
    "Hint: Each language should appear only once in your array.\n",
    "\n",
    "3. Print the language array. It should be something like:\n",
    "\n",
    "[\"Python\", \"Jupyter Notebook\", \"HTML\"]\n"
   ]
  },
  {
   "cell_type": "markdown",
   "metadata": {},
   "source": [
    "**HINT:**: Create a list with every **language_url** you find in every fork "
   ]
  },
  {
   "cell_type": "markdown",
   "metadata": {},
   "source": [
    "⚠️ **Remember to limit your output before submission**."
   ]
  },
  {
   "cell_type": "code",
   "execution_count": 4,
   "metadata": {},
   "outputs": [
    {
     "name": "stdout",
     "output_type": "stream",
     "text": [
      "Requirement already satisfied: requests in /Users/joseluisreguera/opt/anaconda3/lib/python3.9/site-packages (2.28.1)\n",
      "Requirement already satisfied: idna<4,>=2.5 in /Users/joseluisreguera/opt/anaconda3/lib/python3.9/site-packages (from requests) (3.3)\n",
      "Requirement already satisfied: charset-normalizer<3,>=2 in /Users/joseluisreguera/opt/anaconda3/lib/python3.9/site-packages (from requests) (2.0.4)\n",
      "Requirement already satisfied: urllib3<1.27,>=1.21.1 in /Users/joseluisreguera/opt/anaconda3/lib/python3.9/site-packages (from requests) (1.26.11)\n",
      "Requirement already satisfied: certifi>=2017.4.17 in /Users/joseluisreguera/opt/anaconda3/lib/python3.9/site-packages (from requests) (2022.9.24)\n",
      "Note: you may need to restart the kernel to use updated packages.\n"
     ]
    }
   ],
   "source": [
    "%pip install requests\n",
    "import requests as req"
   ]
  },
  {
   "cell_type": "code",
   "execution_count": null,
   "metadata": {},
   "outputs": [],
   "source": [
    "ironhack-datalabs/datamad1020-rev "
   ]
  },
  {
   "cell_type": "code",
   "execution_count": 18,
   "metadata": {},
   "outputs": [
    {
     "data": {
      "text/plain": [
       "<Response [200]>"
      ]
     },
     "execution_count": 18,
     "metadata": {},
     "output_type": "execute_result"
    }
   ],
   "source": [
    "import requests\n",
    "\n",
    "url = \"https://api.github.com/repos/ironhack-datalabs/datamad1020-rev/forks\"\n",
    "\n",
    "req.get(url)"
   ]
  },
  {
   "cell_type": "code",
   "execution_count": 19,
   "metadata": {},
   "outputs": [
    {
     "data": {
      "text/plain": [
       "'[{\"id\":634850241,\"node_id\":\"R_kgDOJdcLwQ\",\"name\":\"datamad1020-rev\",\"full_name\":\"Anton-Utray/datamad1020-rev\",\"private\":false,\"owner\":{\"login\":\"Anton-Utray\",\"id\":127222778,\"node_id\":\"U_kgDOB5VD-g\",\"avatar_url\":\"https://avatars.githubusercontent.com/u/127222778?v=4\",\"gravatar_id\":\"\",\"url\":\"https://api.github.com/users/Anton-Utray\",\"html_url\":\"https://github.com/Anton-Utray\",\"followers_url\":\"https://api.github.com/users/Anton-Utray/followers\",\"following_url\":\"https://api.github.com/users/Anton-Utray/following{/other_user}\",\"gists_url\":\"https://api.github.com/users/Anton-Utray/gists{/gist_id}\",\"starred_url\":\"https://api.github.com/users/Anton-Utray/starred{/owner}{/repo}\",\"subscriptions_url\":\"https://api.github.com/users/Anton-Utray/subscriptions\",\"organizations_url\":\"https://api.github.com/us'"
      ]
     },
     "execution_count": 19,
     "metadata": {},
     "output_type": "execute_result"
    }
   ],
   "source": [
    "req.get(url).text[:800]"
   ]
  },
  {
   "cell_type": "code",
   "execution_count": 20,
   "metadata": {},
   "outputs": [
    {
     "data": {
      "text/plain": [
       "<bound method Response.json of <Response [200]>>"
      ]
     },
     "execution_count": 20,
     "metadata": {},
     "output_type": "execute_result"
    }
   ],
   "source": [
    "req.get(url).json"
   ]
  },
  {
   "cell_type": "code",
   "execution_count": 23,
   "metadata": {},
   "outputs": [
    {
     "name": "stdout",
     "output_type": "stream",
     "text": [
      "[['Jupyter Notebook', 'HTML', 'Python'], ['Jupyter Notebook', 'HTML', 'Python'], ['Jupyter Notebook', 'HTML', 'Python'], ['Jupyter Notebook', 'HTML', 'Python'], ['Jupyter Notebook', 'HTML', 'Python'], ['Jupyter Notebook', 'HTML', 'Python'], ['Jupyter Notebook', 'HTML', 'Python'], ['Jupyter Notebook', 'HTML', 'Python'], ['Jupyter Notebook', 'HTML', 'Python'], ['Jupyter Notebook', 'HTML', 'Python'], ['Jupyter Notebook', 'HTML', 'Python'], ['Jupyter Notebook', 'HTML', 'Python'], ['Jupyter Notebook', 'HTML', 'Python'], ['Jupyter Notebook', 'HTML', 'Python'], ['Jupyter Notebook', 'HTML', 'Python'], ['Jupyter Notebook', 'HTML', 'Python'], ['Jupyter Notebook', 'HTML', 'Python'], ['Jupyter Notebook', 'HTML', 'Python'], ['Jupyter Notebook', 'HTML', 'Python'], ['Jupyter Notebook', 'HTML', 'Python']]\n"
     ]
    }
   ],
   "source": [
    "url = \"https://api.github.com/repos/ironhack-datalabs/datamad1020/forks\"\n",
    "\n",
    "response = requests.get(url)\n",
    "forks = response.json()\n",
    "\n",
    "languages = []\n",
    "\n",
    "for fork in forks:\n",
    "    lang_url = fork[\"languages_url\"]\n",
    "    lang_response = requests.get(lang_url)\n",
    "    lang_json = lang_response.json()\n",
    "    lang_list = list(lang_json.keys())\n",
    "    languages.append(lang_list)\n",
    "\n",
    "print(languages)"
   ]
  }
 ],
 "metadata": {
  "kernelspec": {
   "display_name": "Python 3 (ipykernel)",
   "language": "python",
   "name": "python3"
  },
  "language_info": {
   "codemirror_mode": {
    "name": "ipython",
    "version": 3
   },
   "file_extension": ".py",
   "mimetype": "text/x-python",
   "name": "python",
   "nbconvert_exporter": "python",
   "pygments_lexer": "ipython3",
   "version": "3.9.13"
  },
  "toc": {
   "base_numbering": 1,
   "nav_menu": {},
   "number_sections": true,
   "sideBar": true,
   "skip_h1_title": true,
   "title_cell": "Table of Contents",
   "title_sidebar": "Contents",
   "toc_cell": false,
   "toc_position": {},
   "toc_section_display": true,
   "toc_window_display": false
  }
 },
 "nbformat": 4,
 "nbformat_minor": 2
}
