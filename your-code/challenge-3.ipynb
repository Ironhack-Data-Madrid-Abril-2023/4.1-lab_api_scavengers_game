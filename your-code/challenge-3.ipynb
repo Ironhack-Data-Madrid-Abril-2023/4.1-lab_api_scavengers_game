{
 "cells": [
  {
   "cell_type": "markdown",
   "id": "defensive-clock",
   "metadata": {},
   "source": [
    "# Challenge 3: Hidden Cold Joke\n",
    "\n",
    "Using Python, call Github API to find out the cold joke contained in the 24 secret files in the following repo:\n",
    "\n",
    "https://github.com/ironhack-datalabs/scavenger\n",
    "\n",
    "The filenames of the secret files contain .scavengerhunt and they are scattered in different directories of this repo. The secret files are named from .0001.scavengerhunt to .0024.scavengerhunt. They are scattered randomly throughout this repo. You need to search for these files by calling the Github API, not searching the local files on your computer.\n",
    "\n",
    "\n",
    "After you find out the secrete files:\n",
    "\n",
    "Sort the filenames ascendingly.\n",
    "\n",
    "Read the content of each secret files into an array of strings.\n",
    "\n",
    "Concatenate the strings in the array separating each two with a whitespace.\n",
    "\n",
    "Print out the joke."
   ]
  },
  {
   "cell_type": "markdown",
   "id": "universal-length",
   "metadata": {},
   "source": [
    "⚠️ **Remember to limit your output before submission**."
   ]
  },
  {
   "cell_type": "code",
   "execution_count": 219,
   "id": "456d9afb",
   "metadata": {},
   "outputs": [],
   "source": [
    "import requests as req\n",
    "import base64"
   ]
  },
  {
   "cell_type": "code",
   "execution_count": 220,
   "id": "140ace86",
   "metadata": {},
   "outputs": [],
   "source": [
    "with open('token', 'r') as file:\n",
    "    pass_=file.read()\n",
    "HEADER={'Authorization': 'token ' + pass_}"
   ]
  },
  {
   "cell_type": "code",
   "execution_count": 226,
   "id": "toxic-trading",
   "metadata": {},
   "outputs": [],
   "source": [
    "# Your code\n",
    "url='https://api.github.com/repos/ironhack-datalabs/scavenger/commits'\n",
    "res=req.get(url)"
   ]
  },
  {
   "cell_type": "code",
   "execution_count": 227,
   "id": "7ad523ff",
   "metadata": {},
   "outputs": [
    {
     "data": {
      "text/plain": [
       "<Response [403]>"
      ]
     },
     "execution_count": 227,
     "metadata": {},
     "output_type": "execute_result"
    }
   ],
   "source": [
    "res"
   ]
  },
  {
   "cell_type": "code",
   "execution_count": 225,
   "id": "a50ffbad",
   "metadata": {},
   "outputs": [
    {
     "ename": "KeyError",
     "evalue": "0",
     "output_type": "error",
     "traceback": [
      "\u001b[1;31m---------------------------------------------------------------------------\u001b[0m",
      "\u001b[1;31mKeyError\u001b[0m                                  Traceback (most recent call last)",
      "Cell \u001b[1;32mIn[225], line 1\u001b[0m\n\u001b[1;32m----> 1\u001b[0m sol\u001b[39m=\u001b[39mres\u001b[39m.\u001b[39;49mjson()[\u001b[39m0\u001b[39;49m][\u001b[39m'\u001b[39m\u001b[39mcommit\u001b[39m\u001b[39m'\u001b[39m][\u001b[39m'\u001b[39m\u001b[39mtree\u001b[39m\u001b[39m'\u001b[39m][\u001b[39m'\u001b[39m\u001b[39murl\u001b[39m\u001b[39m'\u001b[39m]\n",
      "\u001b[1;31mKeyError\u001b[0m: 0"
     ]
    }
   ],
   "source": [
    "sol=res.json()[0]['commit']['tree']['url']"
   ]
  },
  {
   "cell_type": "code",
   "execution_count": null,
   "id": "00cd8d4a",
   "metadata": {},
   "outputs": [
    {
     "data": {
      "text/plain": [
       "[{'path': '.0006.scavengerhunt',\n",
       "  'mode': '100644',\n",
       "  'type': 'blob',\n",
       "  'sha': '1c9064284a24b3486015eafdb391b141c27ada2b',\n",
       "  'size': 3,\n",
       "  'url': 'https://api.github.com/repos/ironhack-datalabs/scavenger/git/blobs/1c9064284a24b3486015eafdb391b141c27ada2b'},\n",
       " {'path': '40',\n",
       "  'mode': '100644',\n",
       "  'type': 'blob',\n",
       "  'sha': 'e69de29bb2d1d6434b8b29ae775ad8c2e48c5391',\n",
       "  'size': 0,\n",
       "  'url': 'https://api.github.com/repos/ironhack-datalabs/scavenger/git/blobs/e69de29bb2d1d6434b8b29ae775ad8c2e48c5391'},\n",
       " {'path': '74',\n",
       "  'mode': '100644',\n",
       "  'type': 'blob',\n",
       "  'sha': 'e69de29bb2d1d6434b8b29ae775ad8c2e48c5391',\n",
       "  'size': 0,\n",
       "  'url': 'https://api.github.com/repos/ironhack-datalabs/scavenger/git/blobs/e69de29bb2d1d6434b8b29ae775ad8c2e48c5391'},\n",
       " {'path': '99',\n",
       "  'mode': '100644',\n",
       "  'type': 'blob',\n",
       "  'sha': 'e69de29bb2d1d6434b8b29ae775ad8c2e48c5391',\n",
       "  'size': 0,\n",
       "  'url': 'https://api.github.com/repos/ironhack-datalabs/scavenger/git/blobs/e69de29bb2d1d6434b8b29ae775ad8c2e48c5391'}]"
      ]
     },
     "execution_count": 177,
     "metadata": {},
     "output_type": "execute_result"
    }
   ],
   "source": [
    "urls=[e['url'] for e in req.get(sol).json()['tree']]\n",
    "urls=urls[1:]\n",
    "req.get(urls[0]).json()['tree']"
   ]
  },
  {
   "cell_type": "code",
   "execution_count": null,
   "id": "66a08681",
   "metadata": {},
   "outputs": [],
   "source": [
    "carpetas_secretas=[ a for e in urls for a in req.get(e).json()['tree'] if '.' in a['path']]"
   ]
  },
  {
   "cell_type": "code",
   "execution_count": null,
   "id": "6d7f2dea",
   "metadata": {},
   "outputs": [
    {
     "data": {
      "text/plain": [
       "[{'path': '.0006.scavengerhunt',\n",
       "  'mode': '100644',\n",
       "  'type': 'blob',\n",
       "  'sha': '1c9064284a24b3486015eafdb391b141c27ada2b',\n",
       "  'size': 3,\n",
       "  'url': 'https://api.github.com/repos/ironhack-datalabs/scavenger/git/blobs/1c9064284a24b3486015eafdb391b141c27ada2b'},\n",
       " {'path': '.0008.scavengerhunt',\n",
       "  'mode': '100644',\n",
       "  'type': 'blob',\n",
       "  'sha': 'e351fb73264581ce26504b97ef07daea35116f32',\n",
       "  'size': 6,\n",
       "  'url': 'https://api.github.com/repos/ironhack-datalabs/scavenger/git/blobs/e351fb73264581ce26504b97ef07daea35116f32'},\n",
       " {'path': '.0012.scavengerhunt',\n",
       "  'mode': '100644',\n",
       "  'type': 'blob',\n",
       "  'sha': '209e3ef4b6247ce746048d5711befda46206d235',\n",
       "  'size': 3,\n",
       "  'url': 'https://api.github.com/repos/ironhack-datalabs/scavenger/git/blobs/209e3ef4b6247ce746048d5711befda46206d235'},\n",
       " {'path': '.0007.scavengerhunt',\n",
       "  'mode': '100644',\n",
       "  'type': 'blob',\n",
       "  'sha': '6abb415e0ae3450be0f323113bcca2af195ebbff',\n",
       "  'size': 5,\n",
       "  'url': 'https://api.github.com/repos/ironhack-datalabs/scavenger/git/blobs/6abb415e0ae3450be0f323113bcca2af195ebbff'},\n",
       " {'path': '.0021.scavengerhunt',\n",
       "  'mode': '100644',\n",
       "  'type': 'blob',\n",
       "  'sha': 'fb828e4a926b0a84fc16111fc0ee3eeec41f0ce7',\n",
       "  'size': 5,\n",
       "  'url': 'https://api.github.com/repos/ironhack-datalabs/scavenger/git/blobs/fb828e4a926b0a84fc16111fc0ee3eeec41f0ce7'},\n",
       " {'path': '.0022.scavengerhunt',\n",
       "  'mode': '100644',\n",
       "  'type': 'blob',\n",
       "  'sha': 'bf3efa02f721c40c03a613824e345243a35f6812',\n",
       "  'size': 3,\n",
       "  'url': 'https://api.github.com/repos/ironhack-datalabs/scavenger/git/blobs/bf3efa02f721c40c03a613824e345243a35f6812'},\n",
       " {'path': '.0005.scavengerhunt',\n",
       "  'mode': '100644',\n",
       "  'type': 'blob',\n",
       "  'sha': '3aaf448b40f878cf3067e2323616143bdde600de',\n",
       "  'size': 8,\n",
       "  'url': 'https://api.github.com/repos/ironhack-datalabs/scavenger/git/blobs/3aaf448b40f878cf3067e2323616143bdde600de'},\n",
       " {'path': '.0018.scavengerhunt',\n",
       "  'mode': '100644',\n",
       "  'type': 'blob',\n",
       "  'sha': '397b22b2dc371e8db59ed327f0b75321e4c0d0f2',\n",
       "  'size': 12,\n",
       "  'url': 'https://api.github.com/repos/ironhack-datalabs/scavenger/git/blobs/397b22b2dc371e8db59ed327f0b75321e4c0d0f2'},\n",
       " {'path': '.0016.scavengerhunt',\n",
       "  'mode': '100644',\n",
       "  'type': 'blob',\n",
       "  'sha': 'f5cb13223fdc1b11f4cfbbe1694f533b3c579fa0',\n",
       "  'size': 3,\n",
       "  'url': 'https://api.github.com/repos/ironhack-datalabs/scavenger/git/blobs/f5cb13223fdc1b11f4cfbbe1694f533b3c579fa0'},\n",
       " {'path': '.0024.scavengerhunt',\n",
       "  'mode': '100644',\n",
       "  'type': 'blob',\n",
       "  'sha': '47eb4306e5fec9e051dacabc7039348109784b94',\n",
       "  'size': 6,\n",
       "  'url': 'https://api.github.com/repos/ironhack-datalabs/scavenger/git/blobs/47eb4306e5fec9e051dacabc7039348109784b94'},\n",
       " {'path': '.0010.scavengerhunt',\n",
       "  'mode': '100644',\n",
       "  'type': 'blob',\n",
       "  'sha': 'c1187c4badc9be6990570cef850fc87dcf3523b0',\n",
       "  'size': 10,\n",
       "  'url': 'https://api.github.com/repos/ironhack-datalabs/scavenger/git/blobs/c1187c4badc9be6990570cef850fc87dcf3523b0'},\n",
       " {'path': '.0014.scavengerhunt',\n",
       "  'mode': '100644',\n",
       "  'type': 'blob',\n",
       "  'sha': '1c9064284a24b3486015eafdb391b141c27ada2b',\n",
       "  'size': 3,\n",
       "  'url': 'https://api.github.com/repos/ironhack-datalabs/scavenger/git/blobs/1c9064284a24b3486015eafdb391b141c27ada2b'},\n",
       " {'path': '.0011.scavengerhunt',\n",
       "  'mode': '100644',\n",
       "  'type': 'blob',\n",
       "  'sha': '1a00a70b240d8947af0aaa04f1a93a52c72f7420',\n",
       "  'size': 6,\n",
       "  'url': 'https://api.github.com/repos/ironhack-datalabs/scavenger/git/blobs/1a00a70b240d8947af0aaa04f1a93a52c72f7420'},\n",
       " {'path': '.0023.scavengerhunt',\n",
       "  'mode': '100644',\n",
       "  'type': 'blob',\n",
       "  'sha': '04d0ffb8d895a9e3ee244493e829a24468bd1f60',\n",
       "  'size': 8,\n",
       "  'url': 'https://api.github.com/repos/ironhack-datalabs/scavenger/git/blobs/04d0ffb8d895a9e3ee244493e829a24468bd1f60'},\n",
       " {'path': '.0020.scavengerhunt',\n",
       "  'mode': '100644',\n",
       "  'type': 'blob',\n",
       "  'sha': '41d25f51c301c5eee3737998b0d86573e4e91b90',\n",
       "  'size': 4,\n",
       "  'url': 'https://api.github.com/repos/ironhack-datalabs/scavenger/git/blobs/41d25f51c301c5eee3737998b0d86573e4e91b90'},\n",
       " {'path': '.0003.scavengerhunt',\n",
       "  'mode': '100644',\n",
       "  'type': 'blob',\n",
       "  'sha': 'ba524d7abc4b3a0c0995eb85c9eef470e9e7172f',\n",
       "  'size': 9,\n",
       "  'url': 'https://api.github.com/repos/ironhack-datalabs/scavenger/git/blobs/ba524d7abc4b3a0c0995eb85c9eef470e9e7172f'},\n",
       " {'path': '.0004.scavengerhunt',\n",
       "  'mode': '100644',\n",
       "  'type': 'blob',\n",
       "  'sha': 'd15a2cc44e31b14c65264271b81072e5ba0e1634',\n",
       "  'size': 3,\n",
       "  'url': 'https://api.github.com/repos/ironhack-datalabs/scavenger/git/blobs/d15a2cc44e31b14c65264271b81072e5ba0e1634'},\n",
       " {'path': '.0019.scavengerhunt',\n",
       "  'mode': '100644',\n",
       "  'type': 'blob',\n",
       "  'sha': '09e16f36b3c4993ba924b1074629283a49869be9',\n",
       "  'size': 6,\n",
       "  'url': 'https://api.github.com/repos/ironhack-datalabs/scavenger/git/blobs/09e16f36b3c4993ba924b1074629283a49869be9'},\n",
       " {'path': '.0017.scavengerhunt',\n",
       "  'mode': '100644',\n",
       "  'type': 'blob',\n",
       "  'sha': 'e351fb73264581ce26504b97ef07daea35116f32',\n",
       "  'size': 6,\n",
       "  'url': 'https://api.github.com/repos/ironhack-datalabs/scavenger/git/blobs/e351fb73264581ce26504b97ef07daea35116f32'},\n",
       " {'path': '.0002.scavengerhunt',\n",
       "  'mode': '100644',\n",
       "  'type': 'blob',\n",
       "  'sha': '1269488f7fb1f4b56a8c0e5eb48cecbfadfa9219',\n",
       "  'size': 5,\n",
       "  'url': 'https://api.github.com/repos/ironhack-datalabs/scavenger/git/blobs/1269488f7fb1f4b56a8c0e5eb48cecbfadfa9219'},\n",
       " {'path': '.0013.scavengerhunt',\n",
       "  'mode': '100644',\n",
       "  'type': 'blob',\n",
       "  'sha': '3aaf448b40f878cf3067e2323616143bdde600de',\n",
       "  'size': 8,\n",
       "  'url': 'https://api.github.com/repos/ironhack-datalabs/scavenger/git/blobs/3aaf448b40f878cf3067e2323616143bdde600de'},\n",
       " {'path': '.0015.scavengerhunt',\n",
       "  'mode': '100644',\n",
       "  'type': 'blob',\n",
       "  'sha': '6abb415e0ae3450be0f323113bcca2af195ebbff',\n",
       "  'size': 5,\n",
       "  'url': 'https://api.github.com/repos/ironhack-datalabs/scavenger/git/blobs/6abb415e0ae3450be0f323113bcca2af195ebbff'},\n",
       " {'path': '.0009.scavengerhunt',\n",
       "  'mode': '100644',\n",
       "  'type': 'blob',\n",
       "  'sha': 'f5cb13223fdc1b11f4cfbbe1694f533b3c579fa0',\n",
       "  'size': 3,\n",
       "  'url': 'https://api.github.com/repos/ironhack-datalabs/scavenger/git/blobs/f5cb13223fdc1b11f4cfbbe1694f533b3c579fa0'},\n",
       " {'path': '.0001.scavengerhunt',\n",
       "  'mode': '100644',\n",
       "  'type': 'blob',\n",
       "  'sha': '2add7632f1323136324efbf38ec66db1838b6173',\n",
       "  'size': 3,\n",
       "  'url': 'https://api.github.com/repos/ironhack-datalabs/scavenger/git/blobs/2add7632f1323136324efbf38ec66db1838b6173'}]"
      ]
     },
     "execution_count": 171,
     "metadata": {},
     "output_type": "execute_result"
    }
   ],
   "source": [
    "carpetas_secretas"
   ]
  },
  {
   "cell_type": "code",
   "execution_count": null,
   "id": "391116a0",
   "metadata": {},
   "outputs": [
    {
     "data": {
      "text/plain": [
       "['.0006.scavengerhunt',\n",
       " '.0008.scavengerhunt',\n",
       " '.0012.scavengerhunt',\n",
       " '.0007.scavengerhunt',\n",
       " '.0021.scavengerhunt',\n",
       " '.0022.scavengerhunt',\n",
       " '.0005.scavengerhunt',\n",
       " '.0018.scavengerhunt',\n",
       " '.0016.scavengerhunt',\n",
       " '.0024.scavengerhunt',\n",
       " '.0010.scavengerhunt',\n",
       " '.0014.scavengerhunt',\n",
       " '.0011.scavengerhunt',\n",
       " '.0023.scavengerhunt',\n",
       " '.0020.scavengerhunt',\n",
       " '.0003.scavengerhunt',\n",
       " '.0004.scavengerhunt',\n",
       " '.0019.scavengerhunt',\n",
       " '.0017.scavengerhunt',\n",
       " '.0002.scavengerhunt',\n",
       " '.0013.scavengerhunt',\n",
       " '.0015.scavengerhunt',\n",
       " '.0009.scavengerhunt',\n",
       " '.0001.scavengerhunt']"
      ]
     },
     "execution_count": 168,
     "metadata": {},
     "output_type": "execute_result"
    }
   ],
   "source": [
    "titulos=[e['path'] for e in carpetas_secretas]\n",
    "titulos"
   ]
  },
  {
   "cell_type": "code",
   "execution_count": null,
   "id": "3c940031",
   "metadata": {},
   "outputs": [
    {
     "data": {
      "text/plain": [
       "['https://api.github.com/repos/ironhack-datalabs/scavenger/git/blobs/1c9064284a24b3486015eafdb391b141c27ada2b',\n",
       " 'https://api.github.com/repos/ironhack-datalabs/scavenger/git/blobs/e351fb73264581ce26504b97ef07daea35116f32',\n",
       " 'https://api.github.com/repos/ironhack-datalabs/scavenger/git/blobs/209e3ef4b6247ce746048d5711befda46206d235',\n",
       " 'https://api.github.com/repos/ironhack-datalabs/scavenger/git/blobs/6abb415e0ae3450be0f323113bcca2af195ebbff',\n",
       " 'https://api.github.com/repos/ironhack-datalabs/scavenger/git/blobs/fb828e4a926b0a84fc16111fc0ee3eeec41f0ce7',\n",
       " 'https://api.github.com/repos/ironhack-datalabs/scavenger/git/blobs/bf3efa02f721c40c03a613824e345243a35f6812',\n",
       " 'https://api.github.com/repos/ironhack-datalabs/scavenger/git/blobs/3aaf448b40f878cf3067e2323616143bdde600de',\n",
       " 'https://api.github.com/repos/ironhack-datalabs/scavenger/git/blobs/397b22b2dc371e8db59ed327f0b75321e4c0d0f2',\n",
       " 'https://api.github.com/repos/ironhack-datalabs/scavenger/git/blobs/f5cb13223fdc1b11f4cfbbe1694f533b3c579fa0',\n",
       " 'https://api.github.com/repos/ironhack-datalabs/scavenger/git/blobs/47eb4306e5fec9e051dacabc7039348109784b94',\n",
       " 'https://api.github.com/repos/ironhack-datalabs/scavenger/git/blobs/c1187c4badc9be6990570cef850fc87dcf3523b0',\n",
       " 'https://api.github.com/repos/ironhack-datalabs/scavenger/git/blobs/1c9064284a24b3486015eafdb391b141c27ada2b',\n",
       " 'https://api.github.com/repos/ironhack-datalabs/scavenger/git/blobs/1a00a70b240d8947af0aaa04f1a93a52c72f7420',\n",
       " 'https://api.github.com/repos/ironhack-datalabs/scavenger/git/blobs/04d0ffb8d895a9e3ee244493e829a24468bd1f60',\n",
       " 'https://api.github.com/repos/ironhack-datalabs/scavenger/git/blobs/41d25f51c301c5eee3737998b0d86573e4e91b90',\n",
       " 'https://api.github.com/repos/ironhack-datalabs/scavenger/git/blobs/ba524d7abc4b3a0c0995eb85c9eef470e9e7172f',\n",
       " 'https://api.github.com/repos/ironhack-datalabs/scavenger/git/blobs/d15a2cc44e31b14c65264271b81072e5ba0e1634',\n",
       " 'https://api.github.com/repos/ironhack-datalabs/scavenger/git/blobs/09e16f36b3c4993ba924b1074629283a49869be9',\n",
       " 'https://api.github.com/repos/ironhack-datalabs/scavenger/git/blobs/e351fb73264581ce26504b97ef07daea35116f32',\n",
       " 'https://api.github.com/repos/ironhack-datalabs/scavenger/git/blobs/1269488f7fb1f4b56a8c0e5eb48cecbfadfa9219',\n",
       " 'https://api.github.com/repos/ironhack-datalabs/scavenger/git/blobs/3aaf448b40f878cf3067e2323616143bdde600de',\n",
       " 'https://api.github.com/repos/ironhack-datalabs/scavenger/git/blobs/6abb415e0ae3450be0f323113bcca2af195ebbff',\n",
       " 'https://api.github.com/repos/ironhack-datalabs/scavenger/git/blobs/f5cb13223fdc1b11f4cfbbe1694f533b3c579fa0',\n",
       " 'https://api.github.com/repos/ironhack-datalabs/scavenger/git/blobs/2add7632f1323136324efbf38ec66db1838b6173']"
      ]
     },
     "execution_count": 166,
     "metadata": {},
     "output_type": "execute_result"
    }
   ],
   "source": [
    "secretas_urls=[e['url'] for e in carpetas_secretas]\n",
    "secretas_urls"
   ]
  },
  {
   "cell_type": "code",
   "execution_count": null,
   "id": "85e42cf5",
   "metadata": {},
   "outputs": [],
   "source": [
    "dic={titulos[i]:secretas_urls[i] for i in range(len(titulos))}"
   ]
  },
  {
   "cell_type": "code",
   "execution_count": null,
   "id": "9b7f0c3d",
   "metadata": {},
   "outputs": [
    {
     "data": {
      "text/plain": [
       "{'.0006.scavengerhunt': 'https://api.github.com/repos/ironhack-datalabs/scavenger/git/blobs/1c9064284a24b3486015eafdb391b141c27ada2b',\n",
       " '.0008.scavengerhunt': 'https://api.github.com/repos/ironhack-datalabs/scavenger/git/blobs/e351fb73264581ce26504b97ef07daea35116f32',\n",
       " '.0012.scavengerhunt': 'https://api.github.com/repos/ironhack-datalabs/scavenger/git/blobs/209e3ef4b6247ce746048d5711befda46206d235',\n",
       " '.0007.scavengerhunt': 'https://api.github.com/repos/ironhack-datalabs/scavenger/git/blobs/6abb415e0ae3450be0f323113bcca2af195ebbff',\n",
       " '.0021.scavengerhunt': 'https://api.github.com/repos/ironhack-datalabs/scavenger/git/blobs/fb828e4a926b0a84fc16111fc0ee3eeec41f0ce7',\n",
       " '.0022.scavengerhunt': 'https://api.github.com/repos/ironhack-datalabs/scavenger/git/blobs/bf3efa02f721c40c03a613824e345243a35f6812',\n",
       " '.0005.scavengerhunt': 'https://api.github.com/repos/ironhack-datalabs/scavenger/git/blobs/3aaf448b40f878cf3067e2323616143bdde600de',\n",
       " '.0018.scavengerhunt': 'https://api.github.com/repos/ironhack-datalabs/scavenger/git/blobs/397b22b2dc371e8db59ed327f0b75321e4c0d0f2',\n",
       " '.0016.scavengerhunt': 'https://api.github.com/repos/ironhack-datalabs/scavenger/git/blobs/f5cb13223fdc1b11f4cfbbe1694f533b3c579fa0',\n",
       " '.0024.scavengerhunt': 'https://api.github.com/repos/ironhack-datalabs/scavenger/git/blobs/47eb4306e5fec9e051dacabc7039348109784b94',\n",
       " '.0010.scavengerhunt': 'https://api.github.com/repos/ironhack-datalabs/scavenger/git/blobs/c1187c4badc9be6990570cef850fc87dcf3523b0',\n",
       " '.0014.scavengerhunt': 'https://api.github.com/repos/ironhack-datalabs/scavenger/git/blobs/1c9064284a24b3486015eafdb391b141c27ada2b',\n",
       " '.0011.scavengerhunt': 'https://api.github.com/repos/ironhack-datalabs/scavenger/git/blobs/1a00a70b240d8947af0aaa04f1a93a52c72f7420',\n",
       " '.0023.scavengerhunt': 'https://api.github.com/repos/ironhack-datalabs/scavenger/git/blobs/04d0ffb8d895a9e3ee244493e829a24468bd1f60',\n",
       " '.0020.scavengerhunt': 'https://api.github.com/repos/ironhack-datalabs/scavenger/git/blobs/41d25f51c301c5eee3737998b0d86573e4e91b90',\n",
       " '.0003.scavengerhunt': 'https://api.github.com/repos/ironhack-datalabs/scavenger/git/blobs/ba524d7abc4b3a0c0995eb85c9eef470e9e7172f',\n",
       " '.0004.scavengerhunt': 'https://api.github.com/repos/ironhack-datalabs/scavenger/git/blobs/d15a2cc44e31b14c65264271b81072e5ba0e1634',\n",
       " '.0019.scavengerhunt': 'https://api.github.com/repos/ironhack-datalabs/scavenger/git/blobs/09e16f36b3c4993ba924b1074629283a49869be9',\n",
       " '.0017.scavengerhunt': 'https://api.github.com/repos/ironhack-datalabs/scavenger/git/blobs/e351fb73264581ce26504b97ef07daea35116f32',\n",
       " '.0002.scavengerhunt': 'https://api.github.com/repos/ironhack-datalabs/scavenger/git/blobs/1269488f7fb1f4b56a8c0e5eb48cecbfadfa9219',\n",
       " '.0013.scavengerhunt': 'https://api.github.com/repos/ironhack-datalabs/scavenger/git/blobs/3aaf448b40f878cf3067e2323616143bdde600de',\n",
       " '.0015.scavengerhunt': 'https://api.github.com/repos/ironhack-datalabs/scavenger/git/blobs/6abb415e0ae3450be0f323113bcca2af195ebbff',\n",
       " '.0009.scavengerhunt': 'https://api.github.com/repos/ironhack-datalabs/scavenger/git/blobs/f5cb13223fdc1b11f4cfbbe1694f533b3c579fa0',\n",
       " '.0001.scavengerhunt': 'https://api.github.com/repos/ironhack-datalabs/scavenger/git/blobs/2add7632f1323136324efbf38ec66db1838b6173'}"
      ]
     },
     "execution_count": 170,
     "metadata": {},
     "output_type": "execute_result"
    }
   ],
   "source": [
    "dic"
   ]
  },
  {
   "cell_type": "code",
   "execution_count": null,
   "id": "ab05822b",
   "metadata": {},
   "outputs": [],
   "source": [
    "titulos.sort()\n",
    "dic_ordenado={e:dic[e] for e in titulos}"
   ]
  },
  {
   "cell_type": "code",
   "execution_count": null,
   "id": "13d7f012",
   "metadata": {},
   "outputs": [],
   "source": [
    "urls_ord=[v for e,v in dic_ordenado.items()]"
   ]
  },
  {
   "cell_type": "code",
   "execution_count": null,
   "id": "86d3f524",
   "metadata": {},
   "outputs": [
    {
     "data": {
      "text/plain": [
       "{'message': \"API rate limit exceeded for 2.138.175.14. (But here's the good news: Authenticated requests get a higher rate limit. Check out the documentation for more details.)\",\n",
       " 'documentation_url': 'https://docs.github.com/rest/overview/resources-in-the-rest-api#rate-limiting'}"
      ]
     },
     "execution_count": 212,
     "metadata": {},
     "output_type": "execute_result"
    }
   ],
   "source": [
    "req.get(urls_ord[0]).json()"
   ]
  },
  {
   "cell_type": "code",
   "execution_count": 224,
   "id": "13a42d24",
   "metadata": {},
   "outputs": [
    {
     "ename": "KeyError",
     "evalue": "'content'",
     "output_type": "error",
     "traceback": [
      "\u001b[1;31m---------------------------------------------------------------------------\u001b[0m",
      "\u001b[1;31mKeyError\u001b[0m                                  Traceback (most recent call last)",
      "Cell \u001b[1;32mIn[224], line 2\u001b[0m\n\u001b[0;32m      1\u001b[0m \u001b[39mfor\u001b[39;00m e \u001b[39min\u001b[39;00m urls_ord:\n\u001b[1;32m----> 2\u001b[0m     \u001b[39mprint\u001b[39m(base64\u001b[39m.\u001b[39mb64decode(req\u001b[39m.\u001b[39;49mget(e)\u001b[39m.\u001b[39;49mjson()[\u001b[39m'\u001b[39;49m\u001b[39mcontent\u001b[39;49m\u001b[39m'\u001b[39;49m])\u001b[39m.\u001b[39mdecode(\u001b[39m'\u001b[39m\u001b[39mutf-8\u001b[39m\u001b[39m'\u001b[39m))\n",
      "\u001b[1;31mKeyError\u001b[0m: 'content'"
     ]
    }
   ],
   "source": [
    "for e in urls_ord:\n",
    "    print(base64.b64decode(req.get(e).json()['content']).decode('utf-8'))"
   ]
  },
  {
   "cell_type": "code",
   "execution_count": null,
   "id": "6dd6bfd5",
   "metadata": {},
   "outputs": [],
   "source": []
  }
 ],
 "metadata": {
  "kernelspec": {
   "display_name": "Python 3",
   "language": "python",
   "name": "python3"
  },
  "language_info": {
   "codemirror_mode": {
    "name": "ipython",
    "version": 3
   },
   "file_extension": ".py",
   "mimetype": "text/x-python",
   "name": "python",
   "nbconvert_exporter": "python",
   "pygments_lexer": "ipython3",
   "version": "3.9.2rc1"
  },
  "toc": {
   "base_numbering": 1,
   "nav_menu": {},
   "number_sections": true,
   "sideBar": true,
   "skip_h1_title": true,
   "title_cell": "Table of Contents",
   "title_sidebar": "Contents",
   "toc_cell": false,
   "toc_position": {},
   "toc_section_display": true,
   "toc_window_display": true
  }
 },
 "nbformat": 4,
 "nbformat_minor": 5
}
