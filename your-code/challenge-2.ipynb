{
 "cells": [
  {
   "cell_type": "markdown",
   "id": "threaded-asbestos",
   "metadata": {},
   "source": [
    "# Challenge 2: Count Commits\n",
    "\n",
    "Count how many commits were made in the past week.\n",
    "\n",
    "Obtain all the commits made in the past week via API, which is a JSON array that contains multiple commit objects.\n",
    "\n",
    "Count how many commit objects are contained in the array."
   ]
  },
  {
   "cell_type": "markdown",
   "id": "norwegian-praise",
   "metadata": {},
   "source": [
    "⚠️ **Remember to limit your output before submission**."
   ]
  },
  {
   "cell_type": "code",
   "execution_count": 34,
   "id": "ongoing-taylor",
   "metadata": {},
   "outputs": [],
   "source": [
    "import json\n",
    "import requests\n"
   ]
  },
  {
   "cell_type": "code",
   "execution_count": 35,
   "id": "a9599b5f",
   "metadata": {},
   "outputs": [],
   "source": [
    "with open('../example.txt', 'r') as file:\n",
    "    pass_=file.read()\n",
    "\n",
    "HEADER={'Authorization': 'token ' + pass_}"
   ]
  },
  {
   "cell_type": "code",
   "execution_count": 36,
   "id": "3827c00a",
   "metadata": {},
   "outputs": [],
   "source": [
    "url_commit = 'https://api.github.com/repos/ironhack-datalabs/datamad1020-rev/commits'"
   ]
  },
  {
   "cell_type": "code",
   "execution_count": 41,
   "id": "8aa29216",
   "metadata": {},
   "outputs": [],
   "source": [
    "res = requests.get(url_commit, headers=HEADER)\n",
    "res.json();"
   ]
  },
  {
   "attachments": {},
   "cell_type": "markdown",
   "id": "fb2c7c79",
   "metadata": {},
   "source": [
    "COMMITS EN TOTAL"
   ]
  },
  {
   "cell_type": "code",
   "execution_count": 39,
   "id": "d27eb5b3",
   "metadata": {},
   "outputs": [
    {
     "data": {
      "text/plain": [
       "30"
      ]
     },
     "execution_count": 39,
     "metadata": {},
     "output_type": "execute_result"
    }
   ],
   "source": [
    "commits = res.json()\n",
    "len(commits)"
   ]
  },
  {
   "attachments": {},
   "cell_type": "markdown",
   "id": "4ab846b8",
   "metadata": {},
   "source": [
    "DATE, he cogido a partir del 24 de marzo"
   ]
  },
  {
   "cell_type": "code",
   "execution_count": 40,
   "id": "f6ae37ba",
   "metadata": {},
   "outputs": [
    {
     "data": {
      "text/plain": [
       "0"
      ]
     },
     "execution_count": 40,
     "metadata": {},
     "output_type": "execute_result"
    }
   ],
   "source": [
    "url = 'https://api.github.com/repos/ironhack-datalabs/datamad1020/commits?since=2023-04-24'\n",
    "res = requests.get(url, headers= HEADER)\n",
    "len(res.json())"
   ]
  }
 ],
 "metadata": {
  "kernelspec": {
   "display_name": "Python 3",
   "language": "python",
   "name": "python3"
  },
  "language_info": {
   "codemirror_mode": {
    "name": "ipython",
    "version": 3
   },
   "file_extension": ".py",
   "mimetype": "text/x-python",
   "name": "python",
   "nbconvert_exporter": "python",
   "pygments_lexer": "ipython3",
   "version": "3.10.11"
  },
  "toc": {
   "base_numbering": 1,
   "nav_menu": {},
   "number_sections": true,
   "sideBar": true,
   "skip_h1_title": true,
   "title_cell": "Table of Contents",
   "title_sidebar": "Contents",
   "toc_cell": false,
   "toc_position": {
    "height": "calc(100% - 180px)",
    "left": "10px",
    "top": "150px",
    "width": "288px"
   },
   "toc_section_display": true,
   "toc_window_display": true
  }
 },
 "nbformat": 4,
 "nbformat_minor": 5
}
