{
 "cells": [
  {
   "cell_type": "markdown",
   "id": "threaded-asbestos",
   "metadata": {},
   "source": [
    "# Challenge 2: Count Commits\n",
    "\n",
    "Count how many commits were made in the past week.\n",
    "\n",
    "Obtain all the commits made in the past week via API, which is a JSON array that contains multiple commit objects.\n",
    "\n",
    "Count how many commit objects are contained in the array."
   ]
  },
  {
   "cell_type": "markdown",
   "id": "norwegian-praise",
   "metadata": {},
   "source": [
    "⚠️ **Remember to limit your output before submission**."
   ]
  },
  {
   "cell_type": "code",
   "execution_count": 1,
   "id": "developing-printing",
   "metadata": {},
   "outputs": [
    {
     "name": "stdout",
     "output_type": "stream",
     "text": [
      "Requirement already satisfied: requests in c:\\users\\gamm\\anaconda3\\lib\\site-packages (2.28.1)\n",
      "Requirement already satisfied: idna<4,>=2.5 in c:\\users\\gamm\\anaconda3\\lib\\site-packages (from requests) (3.3)\n",
      "Requirement already satisfied: charset-normalizer<3,>=2 in c:\\users\\gamm\\anaconda3\\lib\\site-packages (from requests) (2.0.4)\n",
      "Requirement already satisfied: certifi>=2017.4.17 in c:\\users\\gamm\\anaconda3\\lib\\site-packages (from requests) (2022.9.14)\n",
      "Requirement already satisfied: urllib3<1.27,>=1.21.1 in c:\\users\\gamm\\anaconda3\\lib\\site-packages (from requests) (1.26.11)\n",
      "Note: you may need to restart the kernel to use updated packages.\n",
      "Requirement already satisfied: python-dotenv in c:\\users\\gamm\\anaconda3\\lib\\site-packages (1.0.0)\n",
      "Note: you may need to restart the kernel to use updated packages.\n"
     ]
    }
   ],
   "source": [
    "#Your code\n",
    "%pip install requests\n",
    "%pip install python-dotenv\n"
   ]
  },
  {
   "cell_type": "code",
   "execution_count": 2,
   "id": "1e3cbd49",
   "metadata": {},
   "outputs": [],
   "source": [
    "import json\n",
    "import requests"
   ]
  },
  {
   "cell_type": "code",
   "execution_count": 3,
   "id": "7793d588",
   "metadata": {},
   "outputs": [],
   "source": [
    "import os\n",
    "from dotenv import load_dotenv"
   ]
  },
  {
   "cell_type": "code",
   "execution_count": 5,
   "id": "fe4eee23",
   "metadata": {},
   "outputs": [
    {
     "data": {
      "text/plain": [
       "False"
      ]
     },
     "execution_count": 5,
     "metadata": {},
     "output_type": "execute_result"
    }
   ],
   "source": [
    "from dotenv import load_dotenv\n",
    "\n",
    "load_dotenv()  # take environment variables from .env.\n",
    "\n",
    "# Code of your application, which uses environment variables (e.g. from `os.environ` or\n",
    "# `os.getenv`) as if they came from the actual environment."
   ]
  },
  {
   "cell_type": "code",
   "execution_count": 6,
   "id": "95220193",
   "metadata": {},
   "outputs": [],
   "source": [
    "github = os.getenv(\"token\")"
   ]
  },
  {
   "cell_type": "code",
   "execution_count": 17,
   "id": "c3bed731",
   "metadata": {},
   "outputs": [],
   "source": [
    "url = \"https://api.github.com/repos/Ironhack-Data-Madrid-Abril-2023/apuntes_clase/commits\""
   ]
  },
  {
   "cell_type": "code",
   "execution_count": 18,
   "id": "86579da0",
   "metadata": {},
   "outputs": [
    {
     "data": {
      "text/plain": [
       "<Response [200]>"
      ]
     },
     "execution_count": 18,
     "metadata": {},
     "output_type": "execute_result"
    }
   ],
   "source": [
    "requests.get(url)"
   ]
  },
  {
   "cell_type": "code",
   "execution_count": 27,
   "id": "creative-stable",
   "metadata": {},
   "outputs": [
    {
     "data": {
      "text/plain": [
       "'[{\"sha\":\"886e7cfff564f4527bbb97ce58ba6209960b567f\",\"node_id\":\"C_kwDOJP_OktoAKDg4NmU3Y2ZmZjU2NGY0NTI3YmJiOTdjZTU4YmE2MjA5OTYwYjU2N2Y\",\"commit\":{\"author\":{\"name\":\"iudh\",\"email\":\"yeho@mail.com\",\"date\":\"2023-05-01T18:25:54Z\"},\"committer\":{\"name\":\"iudh\",\"email\":\"yeho@mail.com\",\"date\":\"2023-05-01T18:25:54Z\"},\"message\":\"rss - scrap\",\"tree\":{\"sha\":\"ba0db0f4b969f0d34a82b41e531c3682ac6469d8\",\"url\":\"https://api.github.com/repos/Ironhack-Data-Madrid-Abril-2023/apuntes_clase/git/trees/ba0db0f4b969f0d34a82b41'"
      ]
     },
     "execution_count": 27,
     "metadata": {},
     "output_type": "execute_result"
    }
   ],
   "source": [
    "# Example: print(variable[:10]) \n",
    "requests.get(url).text[:500]"
   ]
  },
  {
   "cell_type": "code",
   "execution_count": null,
   "id": "7625dbbe",
   "metadata": {},
   "outputs": [],
   "source": [
    "requests.get(url).text[:500]"
   ]
  },
  {
   "cell_type": "code",
   "execution_count": 29,
   "id": "ongoing-taylor",
   "metadata": {},
   "outputs": [
    {
     "data": {
      "text/plain": [
       "30"
      ]
     },
     "execution_count": 29,
     "metadata": {},
     "output_type": "execute_result"
    }
   ],
   "source": [
    "# Obtener la cantidad de commits\n",
    "response = requests.get(url)\n",
    "commits = response.json()\n",
    "count_commits = len(commits)\n",
    "count_commits\n"
   ]
  },
  {
   "cell_type": "code",
   "execution_count": 31,
   "id": "bad4118b",
   "metadata": {},
   "outputs": [
    {
     "name": "stdout",
     "output_type": "stream",
     "text": [
      "30\n"
     ]
    }
   ],
   "source": [
    "#bucle para comprobar cuántos commits hay en el repositorio\n",
    "\n",
    "for listas in commits:\n",
    "    if \"commit\" in commits:\n",
    "        count_commits =+ 1\n",
    "print(count_commits)"
   ]
  }
 ],
 "metadata": {
  "kernelspec": {
   "display_name": "Python 3",
   "language": "python",
   "name": "python3"
  },
  "language_info": {
   "codemirror_mode": {
    "name": "ipython",
    "version": 3
   },
   "file_extension": ".py",
   "mimetype": "text/x-python",
   "name": "python",
   "nbconvert_exporter": "python",
   "pygments_lexer": "ipython3",
   "version": "3.9.13"
  },
  "toc": {
   "base_numbering": 1,
   "nav_menu": {},
   "number_sections": true,
   "sideBar": true,
   "skip_h1_title": true,
   "title_cell": "Table of Contents",
   "title_sidebar": "Contents",
   "toc_cell": false,
   "toc_position": {
    "height": "calc(100% - 180px)",
    "left": "10px",
    "top": "150px",
    "width": "288px"
   },
   "toc_section_display": true,
   "toc_window_display": true
  }
 },
 "nbformat": 4,
 "nbformat_minor": 5
}
