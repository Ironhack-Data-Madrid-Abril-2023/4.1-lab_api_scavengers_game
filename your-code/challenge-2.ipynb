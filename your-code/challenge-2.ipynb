{
 "cells": [
  {
   "cell_type": "markdown",
   "id": "threaded-asbestos",
   "metadata": {},
   "source": [
    "# Challenge 2: Count Commits\n",
    "\n",
    "Count how many commits were made in the past week.\n",
    "\n",
    "Obtain all the commits made in the past week via API, which is a JSON array that contains multiple commit objects.\n",
    "\n",
    "Count how many commit objects are contained in the array."
   ]
  },
  {
   "cell_type": "markdown",
   "id": "norwegian-praise",
   "metadata": {},
   "source": [
    "⚠️ **Remember to limit your output before submission**."
   ]
  },
  {
   "cell_type": "code",
   "execution_count": 43,
   "id": "49dd7c0c",
   "metadata": {},
   "outputs": [],
   "source": [
    "import json\n",
    "import requests as req"
   ]
  },
  {
   "cell_type": "code",
   "execution_count": 44,
   "id": "developing-printing",
   "metadata": {},
   "outputs": [],
   "source": [
    "#Your code\n",
    "with open('token.txt','r') as file:\n",
    "    tok = file.read()"
   ]
  },
  {
   "cell_type": "code",
   "execution_count": 45,
   "id": "creative-stable",
   "metadata": {},
   "outputs": [],
   "source": [
    "# Example: print(variable[:10])\n",
    "HEADER = {'Authorization': 'token ' + tok} "
   ]
  },
  {
   "cell_type": "code",
   "execution_count": 46,
   "id": "ongoing-taylor",
   "metadata": {},
   "outputs": [],
   "source": [
    "url = 'https://api.github.com/repos/ironhack-datalabs/datamad1020-rev/commits'"
   ]
  },
  {
   "cell_type": "code",
   "execution_count": 47,
   "id": "58688e96",
   "metadata": {},
   "outputs": [],
   "source": [
    "res = req.get(url)\n",
    "co = 0"
   ]
  },
  {
   "cell_type": "code",
   "execution_count": 48,
   "id": "655961fb",
   "metadata": {},
   "outputs": [],
   "source": [
    "res = res.json()"
   ]
  },
  {
   "cell_type": "code",
   "execution_count": 49,
   "id": "33495435",
   "metadata": {},
   "outputs": [],
   "source": [
    "for i in range(len(res)):\n",
    "    if int(res[i]['commit']['author']['date'].split('-')[0]) == 2023 and int(res[i]['commit']['author']['date'].split('-')[1]) >= 4 and  int(res[i]['commit']['author']['date'].split('-')[2].split('T')[0])>= 25:\n",
    "        co +=1 "
   ]
  },
  {
   "cell_type": "code",
   "execution_count": 50,
   "id": "c1a5cdc5",
   "metadata": {},
   "outputs": [
    {
     "name": "stdout",
     "output_type": "stream",
     "text": [
      "0\n"
     ]
    }
   ],
   "source": [
    "print(co)"
   ]
  },
  {
   "cell_type": "markdown",
   "id": "29bcdf0a",
   "metadata": {},
   "source": []
  }
 ],
 "metadata": {
  "kernelspec": {
   "display_name": "Python 3",
   "language": "python",
   "name": "python3"
  },
  "language_info": {
   "codemirror_mode": {
    "name": "ipython",
    "version": 3
   },
   "file_extension": ".py",
   "mimetype": "text/x-python",
   "name": "python",
   "nbconvert_exporter": "python",
   "pygments_lexer": "ipython3",
   "version": "3.10.9"
  },
  "toc": {
   "base_numbering": 1,
   "nav_menu": {},
   "number_sections": true,
   "sideBar": true,
   "skip_h1_title": true,
   "title_cell": "Table of Contents",
   "title_sidebar": "Contents",
   "toc_cell": false,
   "toc_position": {
    "height": "calc(100% - 180px)",
    "left": "10px",
    "top": "150px",
    "width": "288px"
   },
   "toc_section_display": true,
   "toc_window_display": true
  }
 },
 "nbformat": 4,
 "nbformat_minor": 5
}
